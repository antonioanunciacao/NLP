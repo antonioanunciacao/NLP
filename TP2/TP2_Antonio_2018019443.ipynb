{
 "cells": [
  {
   "cell_type": "markdown",
   "id": "closed-reason",
   "metadata": {},
   "source": [
    "### Trabalho Prático II da Disciplina Aprendizado Profundo para Processamento de Linguagem Natural\n",
    "\n",
    "Professor: Adriano Veloso\n",
    "\n",
    "Aluna: Antonio Carlos da Anunciação\n",
    "\n",
    "Matrícula: 2018019443\n",
    "\n",
    "---\n",
    "\n",
    "Este trabalho visa desenvolver um modelo de POS TAGGING para desse modo fazer classificação gramatical das palavras em português.\n",
    "\n",
    "Dataset: **Mac-Morpho**\n",
    "\n",
    "---"
   ]
  },
  {
   "cell_type": "markdown",
   "id": "better-carroll",
   "metadata": {},
   "source": [
    "Bibliotecas utilizadas:"
   ]
  },
  {
   "cell_type": "code",
   "execution_count": 1,
   "id": "peaceful-registrar",
   "metadata": {},
   "outputs": [
    {
     "name": "stderr",
     "output_type": "stream",
     "text": [
      "[nltk_data] Downloading package punkt to\n",
      "[nltk_data]     C:\\Users\\Antonio\\AppData\\Roaming\\nltk_data...\n",
      "[nltk_data]   Package punkt is already up-to-date!\n"
     ]
    }
   ],
   "source": [
    "import os\n",
    "import sys\n",
    "import tarfile\n",
    "import nltk\n",
    "import matplotlib.pyplot as plt\n",
    "import numpy as np\n",
    "import pandas as pd\n",
    "import warnings\n",
    "import random \n",
    "import urllib.request\n",
    "import tarfile\n",
    "\n",
    "from nltk import tokenize \n",
    "from sklearn.tree import DecisionTreeClassifier\n",
    "from sklearn.feature_extraction import DictVectorizer\n",
    "from sklearn.pipeline import Pipeline\n",
    "from sklearn.metrics import confusion_matrix\n",
    "from sklearn.metrics import accuracy_score\n",
    "\n",
    "nltk.download('punkt')\n",
    "warnings.filterwarnings(\"ignore\")"
   ]
  },
  {
   "cell_type": "markdown",
   "id": "corrected-particular",
   "metadata": {},
   "source": [
    "Download e preparação dos arquivos de treino:"
   ]
  },
  {
   "cell_type": "code",
   "execution_count": 2,
   "id": "requested-bibliography",
   "metadata": {},
   "outputs": [],
   "source": [
    "if not os.path.exists('macmorpho-v3.tgz'):\n",
    "    url = 'http://nilc.icmc.usp.br/macmorpho'\n",
    "    filename = 'macmorpho-v3.tgz'\n",
    "    urllib.request.urlretrieve(url, filename)\n",
    "    tar = tarfile.open(filename)\n",
    "    tar.extractall()\n",
    "    tar.close()\n"
   ]
  },
  {
   "cell_type": "code",
   "execution_count": 3,
   "id": "brief-image",
   "metadata": {},
   "outputs": [],
   "source": [
    "def read_txt(name_arq):\n",
    "    with open(name_arq, encoding='utf-8') as fp:\n",
    "        arq = []\n",
    "        while True:\n",
    "            line = fp.readline()\n",
    "            arq.append(line.strip())\n",
    "            if not line:\n",
    "                break\n",
    "    return arq"
   ]
  },
  {
   "cell_type": "markdown",
   "id": "boolean-linux",
   "metadata": {},
   "source": [
    "#### Sobre o dataset Macmorpho:\n",
    "Mac-Morpho é um corpus de textos em português brasileiro anotados com tags de classes gramaticais. Sua primeira versão foi lançada em 2003 e, desde então, duas revisões foram feitas com o objetivo de melhorar a qualidade do recurso.\n",
    "\n",
    "O corpus está disponível para download dividido em seções de treinamento, desenvolvimento e teste. Estes são 76%, 4% e 20% do corpus total, respectivamente (a razão para os números incomuns é que o corpus foi primeiro dividido em 80% / 20% trem / teste e, em seguida, 5% da seção do trem foi definida à parte para desenvolvimento).\n",
    "\n",
    "Exemplo de pos-tagging para verbo e artigo:\n",
    "\n",
    "\n",
    "**ARTIGO (ART)**\n",
    "É a classe de palavras que morfologicamente variam em gênero e número e são sempre pré -nominais, determinando o sintagma nominal de forma determinada ou indeterminada.\n",
    " <blockquote>\n",
    "  <p>\n",
    "    O_ART patinho feio vivia chorando.<br />\n",
    "    No meio do caminho havia uma_ART pedra.<br />\n",
    "    Era uma_ART grande amiga.<br />      \n",
    "    As_ART folhas secas caíam no outono.<br />       \n",
    "    Os_ART alunos chegaram cedo.<br />      \n",
    "    Tinha uns_ART repentes interessantes.<br />\n",
    "    Era um_ART homem de sorte.<br />\n",
    "  </p>\n",
    "</blockquote>\n",
    "\n",
    "\n",
    "**VERBO (V)**\n",
    "A classe dos verbos é composta por palavras que se flexionam em número, pessoa, modo, tempo, aspecto e voz e desempenham sempre o papel de núcleo em um predicado. De acordo com a MiniGramática (NILC), “é a palavra que expressa processos, ação,\n",
    "estado, mudança de estado, fenômeno da natureza, conveniência, desejo e existência”.\n",
    "\n",
    " <blockquote>\n",
    "  <p>\n",
    "    Eu moro_V em São Carlos.<br />\n",
    "    O nome dele é_V Luís.<br />\n",
    "    Fomos_V pra praia e nos divertimos_V muito.<br />\n",
    "    Desça_V daí, menino!<br />\n",
    "    Choveu_V.<br />\n",
    "    Há_V muito tempo que ele não vem_V aqui.<br />\n",
    "    Andava_V triste pelos cantos.<br />\n",
    "    Gostaria_V de uma cerveja.<br />\n",
    "    Será_V que vai chover_V?<br />\n",
    "    O que será_V de mim?<br />\n",
    "    Caiu_V no buraco.<br />\n",
    "    Só iria_V se eu fosse_V.<br />\n",
    "    Estava_VAUX estudando_V muito para os exames.<br />\n",
    "  </p>\n",
    "</blockquote>"
   ]
  },
  {
   "cell_type": "markdown",
   "id": "technological-flexibility",
   "metadata": {},
   "source": [
    "Lendo os dados de treino e teste:"
   ]
  },
  {
   "cell_type": "code",
   "execution_count": 4,
   "id": "whole-external",
   "metadata": {},
   "outputs": [],
   "source": [
    "macmorpho_test = read_txt(\"macmorpho-test.txt\")\n",
    "macmorpho_train = read_txt(\"macmorpho-train.txt\")"
   ]
  },
  {
   "cell_type": "markdown",
   "id": "regulated-backing",
   "metadata": {},
   "source": [
    "Como mostrado nos exemplos sobre o dataset Macmorpho as palavras são separadas de sua respectiva TAG com um \"_\" seguido da classe gramatical da palavra, então podemos separar-las com base nesse tag de separação \"_\":"
   ]
  },
  {
   "cell_type": "code",
   "execution_count": 5,
   "id": "strong-radar",
   "metadata": {},
   "outputs": [],
   "source": [
    "def tagged_sentences(sentence):\n",
    "    lista = sentence.split()\n",
    "    tag_sent = [(str.partition(word, '_')[0], str.partition(word, '_')[2]) for word in lista]\n",
    "    return tag_sent"
   ]
  },
  {
   "cell_type": "code",
   "execution_count": 6,
   "id": "charming-eclipse",
   "metadata": {},
   "outputs": [],
   "source": [
    "train_sentences = list(map(tagged_sentences, macmorpho_train)) \n",
    "test_sentences = list(map(tagged_sentences, macmorpho_test)) "
   ]
  },
  {
   "cell_type": "markdown",
   "id": "bigger-carry",
   "metadata": {},
   "source": [
    "Formatação das estruturas das sentenças:"
   ]
  },
  {
   "cell_type": "code",
   "execution_count": 7,
   "id": "sexual-uzbekistan",
   "metadata": {},
   "outputs": [],
   "source": [
    "def features(sentence, index):\n",
    "    return {\n",
    "    'word': sentence[index],\n",
    "    'is_first': index == 0,\n",
    "    'is_last': index == len(sentence) - 1,\n",
    "    'is_capitalized': sentence[index][0].upper() == sentence[index][0],\n",
    "    'is_all_caps': sentence[index].upper() == sentence[index],\n",
    "    'is_all_lower': sentence[index].lower() == sentence[index],\n",
    "    'prefix-1': sentence[index][0],\n",
    "    'prefix-2': sentence[index][:2],\n",
    "    'prefix-3': sentence[index][:3],\n",
    "    'suffix-1': sentence[index][-1],\n",
    "    'suffix-2': sentence[index][-2:],\n",
    "    'suffix-3': sentence[index][-3:],\n",
    "    'prev_word': '' if index == 0 else sentence[index - 1],\n",
    "    'next_word': '' if index == len(sentence) - 1 else sentence[index + 1],\n",
    "    'has_hyphen': '-' in sentence[index],\n",
    "    'is_numeric': sentence[index].isdigit(),\n",
    "    'capitals_inside': sentence[index][1:].lower() != sentence[index][1:]\n",
    "    }"
   ]
  },
  {
   "cell_type": "code",
   "execution_count": 8,
   "id": "filled-toronto",
   "metadata": {},
   "outputs": [],
   "source": [
    "def untag(tagged_sentence):\n",
    "    return [w for w, t in tagged_sentence]"
   ]
  },
  {
   "cell_type": "code",
   "execution_count": 9,
   "id": "assured-settlement",
   "metadata": {},
   "outputs": [],
   "source": [
    "def transform_to_dataset(tagged_sentences):\n",
    "    X, y = [], []\n",
    "    for tagged in tagged_sentences:\n",
    "        for index in range(len(tagged)):\n",
    "            X.append(features(untag(tagged), index))\n",
    "            y.append(tagged[index][1])\n",
    "    return X, y"
   ]
  },
  {
   "cell_type": "markdown",
   "id": "existing-conflict",
   "metadata": {},
   "source": [
    "Separação do dataset:"
   ]
  },
  {
   "cell_type": "code",
   "execution_count": 10,
   "id": "scientific-buying",
   "metadata": {},
   "outputs": [],
   "source": [
    "X_train, y_train = transform_to_dataset(train_sentences)\n",
    "X_test, y_test = transform_to_dataset(test_sentences)"
   ]
  },
  {
   "cell_type": "code",
   "execution_count": 27,
   "id": "trained-telescope",
   "metadata": {},
   "outputs": [
    {
     "data": {
      "text/plain": [
       "648"
      ]
     },
     "execution_count": 27,
     "metadata": {},
     "output_type": "execute_result"
    }
   ],
   "source": [
    " sys.getsizeof(X_train[0])"
   ]
  },
  {
   "cell_type": "markdown",
   "id": "hydraulic-profile",
   "metadata": {},
   "source": [
    "Modelo de decisão para treino:"
   ]
  },
  {
   "cell_type": "code",
   "execution_count": 11,
   "id": "comfortable-miracle",
   "metadata": {},
   "outputs": [],
   "source": [
    "model = Pipeline([\n",
    "    ('vectorizer', DictVectorizer(sparse=False)),\n",
    "    ('classifier', DecisionTreeClassifier(criterion='entropy')) ])"
   ]
  },
  {
   "cell_type": "code",
   "execution_count": 30,
   "id": "corporate-bumper",
   "metadata": {},
   "outputs": [],
   "source": [
    "# Valor baseado no limite de memoria disponivel\n",
    "array_size = 25000"
   ]
  },
  {
   "cell_type": "code",
   "execution_count": 13,
   "id": "universal-shaft",
   "metadata": {},
   "outputs": [
    {
     "data": {
      "text/plain": [
       "Pipeline(steps=[('vectorizer', DictVectorizer(sparse=False)),\n",
       "                ('classifier', DecisionTreeClassifier(criterion='entropy'))])"
      ]
     },
     "execution_count": 13,
     "metadata": {},
     "output_type": "execute_result"
    }
   ],
   "source": [
    "model.fit(X_train[:array_size],y_train[:array_size]) "
   ]
  },
  {
   "cell_type": "code",
   "execution_count": 14,
   "id": "spare-korean",
   "metadata": {},
   "outputs": [],
   "source": [
    "pred = list(model.predict(X_test[:array_size]))"
   ]
  },
  {
   "cell_type": "code",
   "execution_count": 15,
   "id": "sudden-mineral",
   "metadata": {},
   "outputs": [
    {
     "name": "stdout",
     "output_type": "stream",
     "text": [
      "Acurácia: 84.10%\n"
     ]
    }
   ],
   "source": [
    "print (\"Acurácia: {:.2%}\".format(model.score(X_test[:array_size], y_test[:array_size])))"
   ]
  },
  {
   "cell_type": "code",
   "execution_count": 16,
   "id": "yellow-accounting",
   "metadata": {},
   "outputs": [],
   "source": [
    "labels = np.unique(y_test[:array_size])\n",
    "cf_matrix = confusion_matrix(y_test[:array_size], pred, labels=labels)\n",
    "df_cm = pd.DataFrame(cf_matrix, index = [i for i in labels],columns = [i for i in labels])"
   ]
  },
  {
   "cell_type": "code",
   "execution_count": 17,
   "id": "later-parliament",
   "metadata": {},
   "outputs": [],
   "source": [
    "acc_pos_tag = pd.DataFrame(labels, columns=['label'])\n",
    "acc_pos_tag['porcentagem_acertos'] = None"
   ]
  },
  {
   "cell_type": "code",
   "execution_count": 18,
   "id": "meaning-current",
   "metadata": {},
   "outputs": [],
   "source": [
    "for i,x in acc_pos_tag.iterrows():\n",
    "    label = acc_pos_tag['label'][i]\n",
    "    acc_pos_tag['porcentagem_acertos'][i] = (df_cm[label][label]/df_cm[label].sum(skipna = True))*100\n",
    "    \n",
    "acc_pos_tag = acc_pos_tag.fillna(0)"
   ]
  },
  {
   "cell_type": "code",
   "execution_count": 22,
   "id": "respective-dover",
   "metadata": {},
   "outputs": [
    {
     "data": {
      "image/png": "[encoded data removed]",
      "text/plain": [
       "<Figure size 2880x1080 with 1 Axes>"
      ]
     },
     "metadata": {
      "needs_background": "light"
     },
     "output_type": "display_data"
    }
   ],
   "source": [
    "plt.rcParams.update({'font.size': 40})\n",
    "plt.rcParams['xtick.labelsize'] = 25\n",
    "plt.rcParams['ytick.labelsize'] = 25\n",
    "plt.figure(figsize = (40,15))\n",
    "plt.bar(acc_pos_tag['label'],acc_pos_tag['porcentagem_acertos'])\n",
    "plt.xticks(rotation=45)\n",
    "plt.title(\"Acucaria POS-TAGGING (%)\")\n",
    "plt.show()"
   ]
  },
  {
   "cell_type": "markdown",
   "id": "prescription-recorder",
   "metadata": {},
   "source": [
    "---\n",
    "#### Testando o Modelo:"
   ]
  },
  {
   "cell_type": "code",
   "execution_count": 20,
   "id": "meaning-print",
   "metadata": {},
   "outputs": [],
   "source": [
    "def pos_tag(sentence):\n",
    "    tagged_sentence = []\n",
    "    tags = model.predict([features(sentence, index) for index in range(len(sentence))])\n",
    "    return zip(sentence, tags)"
   ]
  },
  {
   "cell_type": "code",
   "execution_count": 31,
   "id": "unavailable-observation",
   "metadata": {},
   "outputs": [
    {
     "name": "stdout",
     "output_type": "stream",
     "text": [
      "Drummond        NPROP\n",
      "de              PREP\n",
      "Andrade         NPROP\n",
      "------------------\n",
      "\n",
      "No              PREP+ART\n",
      "meio             N\n",
      "do              PREP+ART\n",
      "caminho          N\n",
      "tinha            V\n",
      "uma             ART\n",
      "pedra            N\n",
      "------------------\n",
      "\n",
      "Tinha            V\n",
      "uma             ART\n",
      "pedra            N\n",
      "no              PREP+ART\n",
      "meio             N\n",
      "do              PREP+ART\n",
      "caminho          N\n",
      "------------------\n",
      "\n",
      "Tinha            V\n",
      "uma             ART\n",
      "pedra            N\n",
      "------------------\n",
      "\n",
      "No              PREP+ART\n",
      "meio             N\n",
      "do              PREP+ART\n",
      "caminho          N\n",
      "tinha            V\n",
      "uma             ART\n",
      "pedra            N\n",
      "------------------\n",
      "\n",
      "Nunca           PREP+ART\n",
      "me               N\n",
      "esquecerei       V\n",
      "desse            N\n",
      "acontecimento    N\n",
      "------------------\n",
      "\n",
      "Na              PREP+ART\n",
      "vida             N\n",
      "de              PREP\n",
      "minhas           N\n",
      "retinas          N\n",
      "tÃ£o             N\n",
      "fatigadas       PCP\n",
      "------------------\n",
      "\n",
      "Nunca           PREP+ART\n",
      "me               N\n",
      "esquecerei       V\n",
      "que             PRO-KS\n",
      "no              PREP+ART\n",
      "meio             N\n",
      "do              PREP+ART\n",
      "caminho          N\n",
      "------------------\n",
      "\n",
      "Tinha            V\n",
      "uma             ART\n",
      "pedra            N\n",
      "------------------\n",
      "\n",
      "Tinha            V\n",
      "uma             ART\n",
      "pedra            N\n",
      "no              PREP+ART\n",
      "meio             N\n",
      "do              PREP+ART\n",
      "caminho          N\n",
      "------------------\n",
      "\n",
      "No              PREP+ART\n",
      "meio             N\n",
      "do              PREP+ART\n",
      "caminho          N\n",
      "tinha            V\n",
      "uma             ART\n",
      "pedra            N\n",
      ".               PU\n",
      "------------------\n",
      "\n"
     ]
    }
   ],
   "source": [
    "# Entre com um arquivo de texto qualquer, em portugues:\n",
    "\n",
    "try:\n",
    "    poema = open('NoMeioDoCaminho.txt', 'r')\n",
    "except:\n",
    "    url = 'https://drive.google.com/file/d/1fA4svZSqivOOU43jMotBd8adaqQlQzKV/view?usp=sharing'\n",
    "    filename = 'NoMeioDoCaminho.txt'\n",
    "    urllib.request.urlretrieve(url, filename)\n",
    "    poema = open('NoMeioDoCaminho.txt', 'r')\n",
    "    \n",
    "Lines = poema.readlines()\n",
    "for line in Lines:\n",
    "    palavras_tokenize = tokenize.word_tokenize(line, language='portuguese') \n",
    "    POS_list = list(pos_tag(palavras_tokenize))\n",
    "    for t in POS_list:\n",
    "        print(u\"{:<16}{:>2}\".format(str(t[0]),str(t[1])))\n",
    "    print(\"------------------\\n\")"
   ]
  },
  {
   "cell_type": "markdown",
   "id": "applicable-concrete",
   "metadata": {},
   "source": [
    "---\n",
    "### Discussão dos resultados:\n",
    "\n",
    "<p>\n",
    "<div style=\"text-align: justify\"> A primeira caracteristicas a ser notada é a influencia do tamanho do vetor de treino na acurácia, quanto maior, melhores os resultados, em pequenos exemplos como a aplicação da função de teste \"pos_tag\" acima, nos da um exemplo de como o classificar de POS-TAGGING erra. No exemplo do texto acima foram usadas 25mil sentenças no treino. Porem se esse número for menor que 10mil sentenças o modelo começa a errar significativamente em tarefas criticas, como na identificação de nomes proprios(o sobrenome especificamente), ele entende que o sobrenome, quando vem precedido de uma preposição, não é um nome proprio. </div>\n",
    "</p><p>\n",
    "<div style=\"text-align: justify\"> Outro fato determinante na qualidade das classificações são as quantidades das palavras que representam determinadas classes gramaticais dentro do nosso conjunto de dados, assim um conjunto homogeneo e com classes representativamentes equilibradas terão um resultado melhor. </div></p>\n"
   ]
  },
  {
   "cell_type": "markdown",
   "id": "peripheral-assist",
   "metadata": {},
   "source": [
    "---\n",
    "### Referencias:\n",
    "    [1] - http://www.nltk.org/howto/portuguese_en.html\n",
    "    [2] - https://github.com/gesteves91/nlp/blob/master/notebooks/12-pos-tagging.ipynb"
   ]
  }
 ],
 "metadata": {
  "kernelspec": {
   "display_name": "Python 3",
   "language": "python",
   "name": "python3"
  },
  "language_info": {
   "codemirror_mode": {
    "name": "ipython",
    "version": 3
   },
   "file_extension": ".py",
   "mimetype": "text/x-python",
   "name": "python",
   "nbconvert_exporter": "python",
   "pygments_lexer": "ipython3",
   "version": "3.7.9"
  }
 },
 "nbformat": 4,
 "nbformat_minor": 5
}
